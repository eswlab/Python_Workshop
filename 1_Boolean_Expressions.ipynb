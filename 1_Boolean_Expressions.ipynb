{
  "nbformat": 4,
  "nbformat_minor": 0,
  "metadata": {
    "kernelspec": {
      "display_name": "Python 3",
      "language": "python",
      "name": "python3"
    },
    "language_info": {
      "codemirror_mode": {
        "name": "ipython",
        "version": 3
      },
      "file_extension": ".py",
      "mimetype": "text/x-python",
      "name": "python",
      "nbconvert_exporter": "python",
      "pygments_lexer": "ipython3",
      "version": "3.6.5"
    },
    "colab": {
      "name": "1_Boolean_Expressions.ipynb",
      "provenance": []
    }
  },
  "cells": [
    {
      "cell_type": "markdown",
      "metadata": {
        "id": "1tsZZOPhRpIN"
      },
      "source": [
        "# Boolean expressions\n",
        "Boolean expressions a.k.a logical expressions are expressions which evaluate to either *True* or *False*. In python 3, *True* and *False* are keywords. A boolean expression can be written using a combination of comparision and boolean operators. Boolean expressions are used in if-else statements to conditionally execute blocks in a program.\n",
        "\n",
        "Any variable in python can be mapped to a *True* or *False* value using the constructor function *bool*. *bool* takes any python value and return corresponding *True* or *False* value. 0, empty collections, *None* and *False* have *False* values. Most other values are *True*."
      ]
    },
    {
      "cell_type": "code",
      "metadata": {
        "id": "fcxLRaPQRpIW",
        "outputId": "f03caf2d-a26a-49c6-d09f-1bfee797f5bd"
      },
      "source": [
        "print(bool(True))\n",
        "print(bool(False))\n",
        "print(bool(1))\n",
        "print(bool(0))\n",
        "print(bool([]))\n",
        "print(bool([False]))\n",
        "print(bool({}))"
      ],
      "execution_count": null,
      "outputs": [
        {
          "output_type": "stream",
          "text": [
            "True\n",
            "False\n",
            "True\n",
            "False\n",
            "False\n",
            "True\n",
            "False\n"
          ],
          "name": "stdout"
        }
      ]
    },
    {
      "cell_type": "markdown",
      "metadata": {
        "id": "gWSeqIY1RpIY"
      },
      "source": [
        "# Comparison  and logical operators\n",
        "\n",
        "The comparision operators in python are used to compare values of two objects and return *True* or *False*. The comparision result depends on the type of the object. There are a number of comparision operators in python. The table below summarizes the comparision operators\n",
        "\n",
        "| Operator | Description              |\n",
        "|---------:|--------------------------|\n",
        "| ==       | Equals to                |\n",
        "| !=       | Not equal to             |\n",
        "| >        | Greater than             |\n",
        "| >=       | Greater than or equal to |\n",
        "| <        | Less than                |\n",
        "| <=       | Less than or equal to    |\n",
        "| is       | Is the same object       |\n",
        "| in       | Membership test |\n",
        "\n",
        "The logical operators can combine logical expressions to make decisions based on multiple conditions. The table below summarizes the logical operators\n",
        "\n",
        "| Operator | Description     |\n",
        "|---------:|-----------------|\n",
        "| or       | Boolean OR      |\n",
        "| and      | Boolean AND     |\n",
        "| not      | Boolean NOT     |\n",
        "\n",
        "\n",
        "\n"
      ]
    },
    {
      "cell_type": "code",
      "metadata": {
        "id": "ME4FbivMRpIZ",
        "outputId": "c8658c30-6184-408b-af2d-892a1699ee70"
      },
      "source": [
        "'a'=='a'"
      ],
      "execution_count": null,
      "outputs": [
        {
          "output_type": "execute_result",
          "data": {
            "text/plain": [
              "True"
            ]
          },
          "metadata": {
            "tags": []
          },
          "execution_count": 2
        }
      ]
    },
    {
      "cell_type": "code",
      "metadata": {
        "id": "F9R-DLv2RpIb",
        "outputId": "e23bdc48-15a6-45a5-ce68-22153177c111"
      },
      "source": [
        "2!=2"
      ],
      "execution_count": null,
      "outputs": [
        {
          "output_type": "execute_result",
          "data": {
            "text/plain": [
              "False"
            ]
          },
          "metadata": {
            "tags": []
          },
          "execution_count": 3
        }
      ]
    },
    {
      "cell_type": "code",
      "metadata": {
        "id": "saWF_25aRpIc",
        "outputId": "31c1d609-aa7a-4b65-830d-2bb6a97464c1"
      },
      "source": [
        "2>-100"
      ],
      "execution_count": null,
      "outputs": [
        {
          "output_type": "execute_result",
          "data": {
            "text/plain": [
              "True"
            ]
          },
          "metadata": {
            "tags": []
          },
          "execution_count": 4
        }
      ]
    },
    {
      "cell_type": "code",
      "metadata": {
        "id": "ZubvglffRpId",
        "outputId": "40a673f0-87a2-48b8-e878-b257cc9f43a8"
      },
      "source": [
        "3>=3"
      ],
      "execution_count": null,
      "outputs": [
        {
          "output_type": "execute_result",
          "data": {
            "text/plain": [
              "True"
            ]
          },
          "metadata": {
            "tags": []
          },
          "execution_count": 5
        }
      ]
    },
    {
      "cell_type": "code",
      "metadata": {
        "id": "9zXPpkgLRpIe",
        "outputId": "dd0ed3dd-6b24-401e-ecf0-6c1c39b5dcaa"
      },
      "source": [
        "5<8"
      ],
      "execution_count": null,
      "outputs": [
        {
          "output_type": "execute_result",
          "data": {
            "text/plain": [
              "True"
            ]
          },
          "metadata": {
            "tags": []
          },
          "execution_count": 6
        }
      ]
    },
    {
      "cell_type": "code",
      "metadata": {
        "id": "O6vo1o2GRpIe",
        "outputId": "d6abaf33-dc1b-4f46-88fb-2c6117045334"
      },
      "source": [
        "5<=8"
      ],
      "execution_count": null,
      "outputs": [
        {
          "output_type": "execute_result",
          "data": {
            "text/plain": [
              "True"
            ]
          },
          "metadata": {
            "tags": []
          },
          "execution_count": 7
        }
      ]
    },
    {
      "cell_type": "code",
      "metadata": {
        "id": "tF1HPbjARpIf",
        "outputId": "30a32c00-aff5-47e5-a229-17938f268aef"
      },
      "source": [
        "x=['1','2']\n",
        "y=['1','2']\n",
        "x is y\n"
      ],
      "execution_count": null,
      "outputs": [
        {
          "output_type": "execute_result",
          "data": {
            "text/plain": [
              "False"
            ]
          },
          "metadata": {
            "tags": []
          },
          "execution_count": 8
        }
      ]
    },
    {
      "cell_type": "code",
      "metadata": {
        "id": "ZMiAe0gARpIg"
      },
      "source": [
        "y=x\n"
      ],
      "execution_count": null,
      "outputs": []
    },
    {
      "cell_type": "code",
      "metadata": {
        "id": "CM3aa19hRpIg",
        "outputId": "4cf1f9a7-3679-4b01-810d-99da2ca887d6"
      },
      "source": [
        "x is y"
      ],
      "execution_count": null,
      "outputs": [
        {
          "output_type": "execute_result",
          "data": {
            "text/plain": [
              "True"
            ]
          },
          "metadata": {
            "tags": []
          },
          "execution_count": 10
        }
      ]
    },
    {
      "cell_type": "code",
      "metadata": {
        "id": "JKhoyyZHRpIh"
      },
      "source": [
        "str1 = 'abc'\n",
        "str2= 'abc'"
      ],
      "execution_count": null,
      "outputs": []
    },
    {
      "cell_type": "code",
      "metadata": {
        "id": "Jc--aT9rRpIi",
        "outputId": "b0708b20-d221-494f-d655-7c56b4b78410"
      },
      "source": [
        "str1 == str2"
      ],
      "execution_count": null,
      "outputs": [
        {
          "output_type": "execute_result",
          "data": {
            "text/plain": [
              "True"
            ]
          },
          "metadata": {
            "tags": []
          },
          "execution_count": 12
        }
      ]
    },
    {
      "cell_type": "code",
      "metadata": {
        "id": "yMfgXmcbRpIj",
        "outputId": "84f62c21-acb8-4403-ab57-3703e27bac82"
      },
      "source": [
        "str1 is str2"
      ],
      "execution_count": null,
      "outputs": [
        {
          "output_type": "execute_result",
          "data": {
            "text/plain": [
              "True"
            ]
          },
          "metadata": {
            "tags": []
          },
          "execution_count": 13
        }
      ]
    },
    {
      "cell_type": "code",
      "metadata": {
        "id": "bov93azMRpIk",
        "outputId": "88f0aee9-97d7-471e-a4fd-4ed290b8897c"
      },
      "source": [
        "2 in [1,2,3]"
      ],
      "execution_count": null,
      "outputs": [
        {
          "output_type": "execute_result",
          "data": {
            "text/plain": [
              "True"
            ]
          },
          "metadata": {
            "tags": []
          },
          "execution_count": 14
        }
      ]
    },
    {
      "cell_type": "code",
      "metadata": {
        "id": "cceCzCWDRpIk",
        "outputId": "521a2ce9-4721-4133-abd8-09c69e1e8b39"
      },
      "source": [
        "1<2 and 1<3"
      ],
      "execution_count": null,
      "outputs": [
        {
          "output_type": "execute_result",
          "data": {
            "text/plain": [
              "True"
            ]
          },
          "metadata": {
            "tags": []
          },
          "execution_count": 15
        }
      ]
    },
    {
      "cell_type": "code",
      "metadata": {
        "id": "FqhpdpH9RpIl",
        "outputId": "622ec27c-df8f-4981-aef8-d5fdceb727a1"
      },
      "source": [
        "1<2 or 2>3"
      ],
      "execution_count": null,
      "outputs": [
        {
          "output_type": "execute_result",
          "data": {
            "text/plain": [
              "True"
            ]
          },
          "metadata": {
            "tags": []
          },
          "execution_count": 16
        }
      ]
    },
    {
      "cell_type": "code",
      "metadata": {
        "id": "2cbhgSqCRpIm",
        "outputId": "b5495c5c-6fa6-4118-b3e3-44b539be8530"
      },
      "source": [
        "not 1<2"
      ],
      "execution_count": null,
      "outputs": [
        {
          "output_type": "execute_result",
          "data": {
            "text/plain": [
              "False"
            ]
          },
          "metadata": {
            "tags": []
          },
          "execution_count": 17
        }
      ]
    },
    {
      "cell_type": "code",
      "metadata": {
        "id": "tCD1UaJuRpIn"
      },
      "source": [
        ""
      ],
      "execution_count": null,
      "outputs": []
    }
  ]
}