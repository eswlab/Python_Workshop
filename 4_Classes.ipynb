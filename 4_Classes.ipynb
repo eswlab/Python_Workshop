{
  "nbformat": 4,
  "nbformat_minor": 0,
  "metadata": {
    "kernelspec": {
      "display_name": "Python 3",
      "language": "python",
      "name": "python3"
    },
    "language_info": {
      "codemirror_mode": {
        "name": "ipython",
        "version": 3
      },
      "file_extension": ".py",
      "mimetype": "text/x-python",
      "name": "python",
      "nbconvert_exporter": "python",
      "pygments_lexer": "ipython3",
      "version": "3.6.5"
    },
    "colab": {
      "name": "4_Classes.ipynb",
      "provenance": [],
      "collapsed_sections": [],
      "include_colab_link": true
    }
  },
  "cells": [
    {
      "cell_type": "markdown",
      "metadata": {
        "id": "view-in-github",
        "colab_type": "text"
      },
      "source": [
        "<a href=\"https://colab.research.google.com/github/vksriharsha/Python_Workshop/blob/main/4_Classes.ipynb\" target=\"_parent\"><img src=\"https://colab.research.google.com/assets/colab-badge.svg\" alt=\"Open In Colab\"/></a>"
      ]
    },
    {
      "cell_type": "markdown",
      "metadata": {
        "id": "cnOCU_FlWvSp"
      },
      "source": [
        "<h1><center>Classes</center></h1>\n",
        "## Introduction\n",
        "\n",
        "Functions allow to group a number of statements together is a code block. This code block can then be called from any where in the program as required. Functions allows to create modular code which is easy to reuse. Functions can also take a number of parameters. The value calculated by the function then depends on the parameters supplied at the time of function call. Depending on the function type and definition, a function can return a value of different types. A function returns a value if a *return* statement is included at the end of the function body. If a *return* statement is missing from the function body the function by default returns *None*.\n",
        "\n",
        "In python a function is defined using *def* statement. The general syntax of a function named *functionA* with *N* parameters looks like\n",
        "\n",
        "```\n",
        "def functionA(parameter1,paramenter2,...,parameterN):\n",
        "    statementA\n",
        "    statementB\n",
        "    statementC\n",
        "    .\n",
        "    .\n",
        "    .\n",
        "    statementN\n",
        "    return returnValue\n",
        "```"
      ]
    },
    {
      "cell_type": "code",
      "metadata": {
        "id": "mxO0b_iqWvSs",
        "outputId": "a52a3ec0-ebe8-449d-db0d-30aa484d6c17"
      },
      "source": [
        "#this function takes no argument, returns None\n",
        "def printWelcome():\n",
        "    print (\"Hi, Welcome!\")\n",
        "#this function takes no argument, returns a str object\n",
        "def getName():\n",
        "    name=input(\"Please Enter your name: \")\n",
        "    return name\n",
        "#this function takes a str object, returns None\n",
        "def printMessage(name):\n",
        "    print (\"How are you, \"+name)\n",
        "#this function takes no argument, returns None\n",
        "def printGoodbye():\n",
        "    print (\"Goodbye...\")\n",
        "\n",
        "\n",
        "\n",
        "\n",
        "#####Call the functions######\n",
        "printWelcome()\n",
        "user=getName()\n",
        "printMessage(user)\n",
        "printGoodbye()"
      ],
      "execution_count": null,
      "outputs": [
        {
          "output_type": "stream",
          "text": [
            "Hi, Welcome!\n",
            "Please Enter your name: urmi\n",
            "How are you, urmi\n",
            "Goodbye...\n"
          ],
          "name": "stdout"
        }
      ]
    },
    {
      "cell_type": "markdown",
      "metadata": {
        "id": "3ZxsHYHDWvSt"
      },
      "source": [
        "### Lambda functions\n",
        "Lambda functions are anonymous functions which are defined without a name. They are defined using the keyword *lambda* and can take any number of arguments. Lambda functions can be quickly passed on to functions as arguments or can be used inside other functions."
      ]
    },
    {
      "cell_type": "code",
      "metadata": {
        "id": "CBRgPgdWWvSu",
        "outputId": "639692e4-1bda-41ef-8a73-bdc69a7d15b2"
      },
      "source": [
        "#define a lambda function to add 10\n",
        "\n",
        "add10=lambda x: x+10\n",
        "print(add10(2))"
      ],
      "execution_count": null,
      "outputs": [
        {
          "output_type": "stream",
          "text": [
            "12\n"
          ],
          "name": "stdout"
        }
      ]
    },
    {
      "cell_type": "code",
      "metadata": {
        "id": "TAhVRDRsWvSv",
        "outputId": "caf238e9-e358-48ff-95d7-1d390fa70f16"
      },
      "source": [
        "#example use of lambda function\n",
        "def multiply(n):\n",
        "    return lambda x: x*n\n",
        "triple=multiply(3)\n",
        "print(triple(3))\n",
        "print(triple(10))\n",
        "double=multiply(2)\n",
        "print(double(7))"
      ],
      "execution_count": null,
      "outputs": [
        {
          "output_type": "stream",
          "text": [
            "9\n",
            "30\n",
            "14\n"
          ],
          "name": "stdout"
        }
      ]
    },
    {
      "cell_type": "markdown",
      "metadata": {
        "id": "fWroWAgbWvSv"
      },
      "source": [
        "### Python3 built-in functions\n",
        "len(), print(), max(), min(), type() etc. are all built-in functions defined in python3. A complete list of python3 built-in function can be found here: https://docs.python.org/3/library/functions.html"
      ]
    },
    {
      "cell_type": "code",
      "metadata": {
        "id": "ox9agFL1WvSw"
      },
      "source": [
        ""
      ],
      "execution_count": null,
      "outputs": []
    }
  ]
}